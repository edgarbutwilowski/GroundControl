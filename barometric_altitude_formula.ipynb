{
 "cells": [
  {
   "cell_type": "markdown",
   "metadata": {},
   "source": [
    "# Lernpfad zur barometrischen Höhenformel\n",
    "\n",
    "In diesem Jupyter Notebook werden wir ein wenig mit der **barometrischen Höhenformel** experimentieren, um diese näher kennenzulernen."
   ]
  },
  {
   "cell_type": "code",
   "execution_count": 1,
   "metadata": {},
   "outputs": [],
   "source": [
    "import math\n",
    "import matplotlib.pyplot as plt\n",
    "import pandas\n",
    "import sympy\n",
    "sympy.init_printing()"
   ]
  },
  {
   "cell_type": "code",
   "execution_count": 2,
   "metadata": {},
   "outputs": [],
   "source": [
    "rho, rho_0, g, h, P_0 = sympy.symbols('rho rho_0 g h P_0')"
   ]
  },
  {
   "cell_type": "markdown",
   "metadata": {},
   "source": [
    "Wir verwenden als Ausgangspunkt die **barometrische Höhenformel**, wie sie von der **Fakultät für Physik und Astronomie** der **Julius-Maximilian-Universität Würzburg** auf ihrer Website angegeben wird: https://pawn.physik.uni-wuerzburg.de/video/thermodynamik/k/sk05.html. In Python-Notation mit _sympy_ sieht sie folgendermassen aus:"
   ]
  },
  {
   "cell_type": "code",
   "execution_count": 3,
   "metadata": {},
   "outputs": [
    {
     "name": "stdout",
     "output_type": "stream",
     "text": [
      "Eq(rho, rho_0*exp(-g*h*rho_0/P_0))\n"
     ]
    }
   ],
   "source": [
    "Formel = sympy.Eq(rho, rho_0 * sympy.exp(- (rho_0 / P_0) * g * h) )\n",
    "print(Formel)"
   ]
  },
  {
   "cell_type": "markdown",
   "metadata": {},
   "source": [
    "Und in mathenatischer Schreibung dann so:"
   ]
  },
  {
   "cell_type": "code",
   "execution_count": 4,
   "metadata": {},
   "outputs": [
    {
     "data": {
      "image/png": "[encoded data removed]",
      "text/latex": [
       "$\\displaystyle \\rho = \\rho_{0} e^{- \\frac{g h \\rho_{0}}{P_{0}}}$"
      ],
      "text/plain": [
       "        -g⋅h⋅ρ₀ \n",
       "        ────────\n",
       "           P₀   \n",
       "ρ = ρ₀⋅ℯ        "
      ]
     },
     "metadata": {},
     "output_type": "display_data"
    }
   ],
   "source": [
    "display(Formel)"
   ]
  },
  {
   "cell_type": "markdown",
   "metadata": {},
   "source": [
    "d = gegebener Luftdruck  (in Pa)\n",
    "\n",
    "p0 = Standard-Luftdruck auf Meereshöhe (in Pa)\n",
    "\n",
    "rho0 = Standard-Luftdichte auf Meereshöhe (in kg/m^3)\n",
    "\n",
    "g = Erdbeschleunigung (in m/s^2)"
   ]
  },
  {
   "cell_type": "markdown",
   "metadata": {},
   "source": [
    "Wir lassen _sympy_ nach _h_ umformen:"
   ]
  },
  {
   "cell_type": "code",
   "execution_count": 5,
   "metadata": {},
   "outputs": [
    {
     "name": "stdout",
     "output_type": "stream",
     "text": [
      "[P_0*log(rho_0/rho)/(g*rho_0)]\n"
     ]
    }
   ],
   "source": [
    "Loesung = sympy.solve(Formel, h)\n",
    "print(Loesung)"
   ]
  },
  {
   "cell_type": "markdown",
   "metadata": {},
   "source": [
    "Das ist die oben aufgeführte barometrische Höhenformel, jedoch aufgelöst nach der Höhe _h_. Auch hier wenden wir für eine besssere Lesbarkeit die mathematische Darstellung per `display()`-Funktion an:"
   ]
  },
  {
   "cell_type": "code",
   "execution_count": 6,
   "metadata": {},
   "outputs": [
    {
     "data": {
      "image/png": "[encoded data removed]",
      "text/latex": [
       "$\\displaystyle \\left[ \\frac{P_{0} \\log{\\left(\\frac{\\rho_{0}}{\\rho} \\right)}}{g \\rho_{0}}\\right]$"
      ],
      "text/plain": [
       "⎡      ⎛ρ₀⎞⎤\n",
       "⎢P₀⋅log⎜──⎟⎥\n",
       "⎢      ⎝ρ ⎠⎥\n",
       "⎢──────────⎥\n",
       "⎣   g⋅ρ₀   ⎦"
      ]
     },
     "metadata": {},
     "output_type": "display_data"
    }
   ],
   "source": [
    "display(Loesung)"
   ]
  },
  {
   "cell_type": "markdown",
   "metadata": {},
   "source": [
    "Leider kann _sympy_ uns nicht auch den Weg der Umformung in anschaulicher Weise anzeigen. Wen es trotzdem interessiert, zeige ich im Folgenden einen möglichen Lösungsweg:\n",
    "\n",
    "1. **Beide Seiten durch ρ₀ teilen:**\n",
    "\n",
    "   ```\n",
    "   ρ / ρ₀ = exp(-g * h * ρ₀ / P₀)\n",
    "   ```\n",
    "\n",
    "2. **Natürlichen Logarithmus (ln) auf beiden Seiten anwenden:**\n",
    "\n",
    "   ```\n",
    "   ln(ρ / ρ₀) = ln(exp(-g * h * ρ₀ / P₀))\n",
    "   ```\n",
    "\n",
    "   Da `ln(exp(x)) = x`, vereinfacht sich dies zu:\n",
    "\n",
    "   ```\n",
    "   ln(ρ / ρ₀) = -g * h * ρ₀ / P₀\n",
    "   ```\n",
    "\n",
    "3. **Beide Seiten mit -1 multiplizieren:**\n",
    "\n",
    "   ```\n",
    "   -ln(ρ / ρ₀) = g * h * ρ₀ / P₀\n",
    "   ```\n",
    "\n",
    "4. **Verwenden der Logarithmus-Regel `ln(a/b) = -ln(b/a)`:**\n",
    "\n",
    "   ```\n",
    "   ln(ρ₀ / ρ) = g * h * ρ₀ / P₀\n",
    "   ```\n",
    "\n",
    "5. **Beide Seiten mit P₀ multiplizieren:**\n",
    "\n",
    "   ```\n",
    "   P₀ * ln(ρ₀ / ρ) = g * h * ρ₀\n",
    "   ```\n",
    "\n",
    "6. **Beide Seiten durch g * ρ₀ teilen:**\n",
    "\n",
    "   ```\n",
    "   P₀ * ln(ρ₀ / ρ) / (g * ρ₀) = h\n",
    "   ```\n",
    "\n",
    "7. **h auf die linke Seite bringen:**\n",
    "\n",
    "   ```\n",
    "   h = P₀ * ln(ρ₀ / ρ) / (g * ρ₀)\n",
    "   ```"
   ]
  },
  {
   "cell_type": "code",
   "execution_count": 7,
   "metadata": {},
   "outputs": [],
   "source": [
    "# Gegebene Werte\n",
    "P_0 = 101325  # Standardluftdruck auf Meereshöhe in Pa\n",
    "rho_0 = 1.225  # Standardluftdichte auf Meereshöhe in kg/m³\n",
    "g = 9.81  # Erdbeschleunigung in m/s²"
   ]
  },
  {
   "cell_type": "markdown",
   "metadata": {},
   "source": [
    "Wir machen eine Testrechnung, indem wir berechnen auf welcher Höhe wir uns befinden würden, wenn wir einen Luftdruck von _898 hPa_ messen:"
   ]
  },
  {
   "cell_type": "code",
   "execution_count": 8,
   "metadata": {},
   "outputs": [
    {
     "data": {
      "image/png": "[encoded data removed]",
      "text/latex": [
       "$\\displaystyle 1018.10406556575$"
      ],
      "text/plain": [
       "1018.1040655657547"
      ]
     },
     "execution_count": 8,
     "metadata": {},
     "output_type": "execute_result"
    }
   ],
   "source": [
    "P = 898 * 100  # Druck in Pa\n",
    "rho = (P * rho_0) / P_0  # Luftdichte in der Höhe\n",
    "h = P_0 * math.log(rho_0 / rho) / (g * rho_0)  # Höhe berechnen\n",
    "h"
   ]
  },
  {
   "cell_type": "markdown",
   "metadata": {},
   "source": [
    "Die Berechnung ergibt, dass ein Luftdruck von _898 hPa_ in einer Höhe von _1'018 Metern_ besteht."
   ]
  },
  {
   "cell_type": "markdown",
   "metadata": {},
   "source": [
    "In C++ für Arduino folgende Form:\n",
    "\n",
    "```cpp\n",
    "#include <math.h>\n",
    "...\n",
    "const P_0 = 101325;\n",
    "const rho_0 = 1.225;\n",
    "const g = 9.81;\n",
    "double absoluteHeight = P_0 * log(rho_0 / (bmp388.pressure * rho_0) / P_0) / (g * rho_0);\n",
    "...\n",
    "```\n",
    "\n",
    "Der Druckwert des _BMP388_ wird als Variable im _Nenner_ einer **Division** verwendet. So etwas birgt immer die Gefahr einer _Division durch 0_ und damit eines **undefinierten Fehlerzustands**. Wir werden jedoch im Folgenden sehen, dass selbst bei _10 km_ Höhe noch recht hohe Druckwerte vorherrschen. Erst ab ca. _100 km_ beginnt der **Übergang zum Weltall** und geht der Luftdruck gegen 0. Das heisst, in unserem _geplanten Operationsbereich_ wird der Druckwert realistischerweise nie 0 betragen und wir können diesen Fall getrost aussschliessen."
   ]
  },
  {
   "cell_type": "markdown",
   "metadata": {},
   "source": [
    "Die folgende Tabelle stellt **Höhenwerte** und die jeweils vorherrschenden **Luftdrücke** bis zu einer Höhe von _10 km_ gegenüber:"
   ]
  },
  {
   "cell_type": "code",
   "execution_count": 12,
   "metadata": {},
   "outputs": [
    {
     "data": {
      "application/vnd.microsoft.datawrangler.viewer.v0+json": {
       "columns": [
        {
         "name": "index",
         "rawType": "int64",
         "type": "integer"
        },
        {
         "name": "Höhe (Meter)",
         "rawType": "int64",
         "type": "integer"
        },
        {
         "name": "Luftdruck (hPa)",
         "rawType": "float64",
         "type": "float"
        }
       ],
       "conversionMethod": "pd.DataFrame",
       "ref": "635880b9-d29e-4d85-81b2-3b9046c7b64b",
       "rows": [
        [
         "0",
         "0",
         "1013.25"
        ],
        [
         "1",
         "1000",
         "899.93022202833"
        ],
        [
         "2",
         "2000",
         "799.2838929385238"
        ],
        [
         "3",
         "3000",
         "709.893640499219"
        ],
        [
         "4",
         "4000",
         "630.5006084490122"
        ],
        [
         "5",
         "5000",
         "559.9867283992271"
        ],
        [
         "6",
         "6000",
         "497.3589744102979"
        ],
        [
         "7",
         "7000",
         "441.7353785036684"
        ],
        [
         "8",
         "8000",
         "392.3326101698245"
        ],
        [
         "9",
         "9000",
         "348.45494495838574"
        ],
        [
         "10",
         "10000",
         "309.4844667981935"
        ]
       ],
       "shape": {
        "columns": 2,
        "rows": 11
       }
      },
      "text/html": [
       "<div>\n",
       "<style scoped>\n",
       "    .dataframe tbody tr th:only-of-type {\n",
       "        vertical-align: middle;\n",
       "    }\n",
       "\n",
       "    .dataframe tbody tr th {\n",
       "        vertical-align: top;\n",
       "    }\n",
       "\n",
       "    .dataframe thead th {\n",
       "        text-align: right;\n",
       "    }\n",
       "</style>\n",
       "<table border=\"1\" class=\"dataframe\">\n",
       "  <thead>\n",
       "    <tr style=\"text-align: right;\">\n",
       "      <th></th>\n",
       "      <th>Höhe (Meter)</th>\n",
       "      <th>Luftdruck (hPa)</th>\n",
       "    </tr>\n",
       "  </thead>\n",
       "  <tbody>\n",
       "    <tr>\n",
       "      <th>0</th>\n",
       "      <td>0</td>\n",
       "      <td>1013.250000</td>\n",
       "    </tr>\n",
       "    <tr>\n",
       "      <th>1</th>\n",
       "      <td>1000</td>\n",
       "      <td>899.930222</td>\n",
       "    </tr>\n",
       "    <tr>\n",
       "      <th>2</th>\n",
       "      <td>2000</td>\n",
       "      <td>799.283893</td>\n",
       "    </tr>\n",
       "    <tr>\n",
       "      <th>3</th>\n",
       "      <td>3000</td>\n",
       "      <td>709.893640</td>\n",
       "    </tr>\n",
       "    <tr>\n",
       "      <th>4</th>\n",
       "      <td>4000</td>\n",
       "      <td>630.500608</td>\n",
       "    </tr>\n",
       "    <tr>\n",
       "      <th>5</th>\n",
       "      <td>5000</td>\n",
       "      <td>559.986728</td>\n",
       "    </tr>\n",
       "    <tr>\n",
       "      <th>6</th>\n",
       "      <td>6000</td>\n",
       "      <td>497.358974</td>\n",
       "    </tr>\n",
       "    <tr>\n",
       "      <th>7</th>\n",
       "      <td>7000</td>\n",
       "      <td>441.735379</td>\n",
       "    </tr>\n",
       "    <tr>\n",
       "      <th>8</th>\n",
       "      <td>8000</td>\n",
       "      <td>392.332610</td>\n",
       "    </tr>\n",
       "    <tr>\n",
       "      <th>9</th>\n",
       "      <td>9000</td>\n",
       "      <td>348.454945</td>\n",
       "    </tr>\n",
       "    <tr>\n",
       "      <th>10</th>\n",
       "      <td>10000</td>\n",
       "      <td>309.484467</td>\n",
       "    </tr>\n",
       "  </tbody>\n",
       "</table>\n",
       "</div>"
      ],
      "text/plain": [
       "    Höhe (Meter)  Luftdruck (hPa)\n",
       "0              0      1013.250000\n",
       "1           1000       899.930222\n",
       "2           2000       799.283893\n",
       "3           3000       709.893640\n",
       "4           4000       630.500608\n",
       "5           5000       559.986728\n",
       "6           6000       497.358974\n",
       "7           7000       441.735379\n",
       "8           8000       392.332610\n",
       "9           9000       348.454945\n",
       "10         10000       309.484467"
      ]
     },
     "execution_count": 12,
     "metadata": {},
     "output_type": "execute_result"
    }
   ],
   "source": [
    "# Höhenbereich\n",
    "h_werte = range(0, 10001, 1000)  # Höhenwerte von 0 bis 10 km in 1-km-Schritten\n",
    "\n",
    "# Liste für die Druckwerte\n",
    "P_werte = []\n",
    "\n",
    "# Berechne den Druck für jede Höhe\n",
    "for h in h_werte:\n",
    "  rho = rho_0 * math.exp(- (rho_0 / P_0) * g * h)  # Berechne die Luftdichte\n",
    "  P = P_0 * rho / rho_0  # Berechne den Druck\n",
    "  P_werte.append(P / 100)  # Umrechnung in hPa\n",
    "\n",
    "baro_data = {\"Höhe (Meter)\": h_werte, \"Luftdruck (hPa)\": P_werte}\n",
    "baro_table = pandas.DataFrame(baro_data)\n",
    "baro_table"
   ]
  },
  {
   "cell_type": "markdown",
   "metadata": {},
   "source": [
    "Auch im Plot des Diagramms lässt sich gut erkennen, dass der Zusammenhang zwischen Höhe und Luftdruck nicht liniar, sondern logarithmisch ist. Der Verlauf des Graphen ist leicht gebeugt:"
   ]
  },
  {
   "cell_type": "code",
   "execution_count": 10,
   "metadata": {},
   "outputs": [
    {
     "data": {
      "image/png": "[encoded data removed]",
      "text/plain": [
       "<Figure size 640x480 with 1 Axes>"
      ]
     },
     "metadata": {},
     "output_type": "display_data"
    }
   ],
   "source": [
    "plt.plot(P_werte, h_werte)\n",
    "plt.xlabel(\"Druck (hPa)\")\n",
    "plt.ylabel(\"Höhe (Meter)\")\n",
    "plt.title(\"Druck vs. Höhe\")\n",
    "plt.grid(True)\n",
    "plt.show()"
   ]
  }
 ],
 "metadata": {
  "kernelspec": {
   "display_name": "Python 3",
   "language": "python",
   "name": "python3"
  },
  "language_info": {
   "codemirror_mode": {
    "name": "ipython",
    "version": 3
   },
   "file_extension": ".py",
   "mimetype": "text/x-python",
   "name": "python",
   "nbconvert_exporter": "python",
   "pygments_lexer": "ipython3",
   "version": "3.12.5"
  }
 },
 "nbformat": 4,
 "nbformat_minor": 2
}
