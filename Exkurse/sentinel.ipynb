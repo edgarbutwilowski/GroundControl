{
 "cells": [
  {
   "cell_type": "markdown",
   "id": "9acea0a3",
   "metadata": {},
   "source": [
    "Beispiel für ein Jupyter Notebook, mit dem ein einzelnes Rohbild von Sentinel heruntergeladen und visualisiert werden kann. Zu beachten, dass Sentinel-Daten oft im GeoTIFF- oder JP2-Format vorliegen und wir die `rasterio` Bibliothek verwenden werden, um darauf zuzugreifen. Für dieses Beispiel werden Sentinel-2 Daten verwendet, die optische Daten bereitstellen."
   ]
  },
  {
   "cell_type": "code",
   "execution_count": 1,
   "id": "d24210e7",
   "metadata": {},
   "outputs": [
    {
     "ename": "RasterioIOError",
     "evalue": "'/vsipythonfilelike/38f280d1-dec5-4d99-a70c-277a954cc180/38f280d1-dec5-4d99-a70c-277a954cc180' not recognized as a supported file format.",
     "output_type": "error",
     "traceback": [
      "\u001b[1;31m---------------------------------------------------------------------------\u001b[0m",
      "\u001b[1;31mCPLE_OpenFailedError\u001b[0m                      Traceback (most recent call last)",
      "File \u001b[1;32mrasterio\\\\_base.pyx:310\u001b[0m, in \u001b[0;36mrasterio._base.DatasetBase.__init__\u001b[1;34m()\u001b[0m\n",
      "File \u001b[1;32mrasterio\\\\_base.pyx:221\u001b[0m, in \u001b[0;36mrasterio._base.open_dataset\u001b[1;34m()\u001b[0m\n",
      "File \u001b[1;32mrasterio\\\\_err.pyx:221\u001b[0m, in \u001b[0;36mrasterio._err.exc_wrap_pointer\u001b[1;34m()\u001b[0m\n",
      "\u001b[1;31mCPLE_OpenFailedError\u001b[0m: '/vsipythonfilelike/38f280d1-dec5-4d99-a70c-277a954cc180/38f280d1-dec5-4d99-a70c-277a954cc180' not recognized as a supported file format.",
      "\nDuring handling of the above exception, another exception occurred:\n",
      "\u001b[1;31mRasterioIOError\u001b[0m                           Traceback (most recent call last)",
      "Cell \u001b[1;32mIn[1], line 13\u001b[0m\n\u001b[0;32m     11\u001b[0m \u001b[38;5;66;03m# Bild herunterladen\u001b[39;00m\n\u001b[0;32m     12\u001b[0m response \u001b[38;5;241m=\u001b[39m requests\u001b[38;5;241m.\u001b[39mget(image_url)\n\u001b[1;32m---> 13\u001b[0m \u001b[38;5;28;01mwith\u001b[39;00m \u001b[43mrasterio\u001b[49m\u001b[38;5;241;43m.\u001b[39;49m\u001b[43mopen\u001b[49m\u001b[43m(\u001b[49m\u001b[43mBytesIO\u001b[49m\u001b[43m(\u001b[49m\u001b[43mresponse\u001b[49m\u001b[38;5;241;43m.\u001b[39;49m\u001b[43mcontent\u001b[49m\u001b[43m)\u001b[49m\u001b[43m)\u001b[49m \u001b[38;5;28;01mas\u001b[39;00m src:\n\u001b[0;32m     14\u001b[0m     image_data \u001b[38;5;241m=\u001b[39m src\u001b[38;5;241m.\u001b[39mread(\u001b[38;5;241m1\u001b[39m)  \u001b[38;5;66;03m# Das erste Band lesen\u001b[39;00m\n\u001b[0;32m     16\u001b[0m \u001b[38;5;66;03m# Bildvisualisierung\u001b[39;00m\n",
      "File \u001b[1;32m~\\AppData\\Roaming\\Python\\Python312\\site-packages\\rasterio\\env.py:451\u001b[0m, in \u001b[0;36mensure_env_with_credentials.<locals>.wrapper\u001b[1;34m(*args, **kwds)\u001b[0m\n\u001b[0;32m    448\u001b[0m     session \u001b[38;5;241m=\u001b[39m DummySession()\n\u001b[0;32m    450\u001b[0m \u001b[38;5;28;01mwith\u001b[39;00m env_ctor(session\u001b[38;5;241m=\u001b[39msession):\n\u001b[1;32m--> 451\u001b[0m     \u001b[38;5;28;01mreturn\u001b[39;00m \u001b[43mf\u001b[49m\u001b[43m(\u001b[49m\u001b[38;5;241;43m*\u001b[39;49m\u001b[43margs\u001b[49m\u001b[43m,\u001b[49m\u001b[43m \u001b[49m\u001b[38;5;241;43m*\u001b[39;49m\u001b[38;5;241;43m*\u001b[39;49m\u001b[43mkwds\u001b[49m\u001b[43m)\u001b[49m\n",
      "File \u001b[1;32m~\\AppData\\Roaming\\Python\\Python312\\site-packages\\rasterio\\__init__.py:255\u001b[0m, in \u001b[0;36mopen\u001b[1;34m(fp, mode, driver, width, height, count, crs, transform, dtype, nodata, sharing, **kwargs)\u001b[0m\n\u001b[0;32m    253\u001b[0m \u001b[38;5;28;01mif\u001b[39;00m mode \u001b[38;5;241m==\u001b[39m \u001b[38;5;124m'\u001b[39m\u001b[38;5;124mr\u001b[39m\u001b[38;5;124m'\u001b[39m \u001b[38;5;129;01mand\u001b[39;00m \u001b[38;5;28mhasattr\u001b[39m(fp, \u001b[38;5;124m'\u001b[39m\u001b[38;5;124mread\u001b[39m\u001b[38;5;124m'\u001b[39m):\n\u001b[0;32m    254\u001b[0m     \u001b[38;5;28;01mif\u001b[39;00m have_vsi_plugin:\n\u001b[1;32m--> 255\u001b[0m         \u001b[38;5;28;01mreturn\u001b[39;00m \u001b[43mFilePath\u001b[49m\u001b[43m(\u001b[49m\u001b[43mfp\u001b[49m\u001b[43m)\u001b[49m\u001b[38;5;241;43m.\u001b[39;49m\u001b[43mopen\u001b[49m\u001b[43m(\u001b[49m\u001b[43mdriver\u001b[49m\u001b[38;5;241;43m=\u001b[39;49m\u001b[43mdriver\u001b[49m\u001b[43m,\u001b[49m\u001b[43m \u001b[49m\u001b[43msharing\u001b[49m\u001b[38;5;241;43m=\u001b[39;49m\u001b[43msharing\u001b[49m\u001b[43m,\u001b[49m\u001b[43m \u001b[49m\u001b[38;5;241;43m*\u001b[39;49m\u001b[38;5;241;43m*\u001b[39;49m\u001b[43mkwargs\u001b[49m\u001b[43m)\u001b[49m\n\u001b[0;32m    256\u001b[0m     \u001b[38;5;28;01melse\u001b[39;00m:\n\u001b[0;32m    257\u001b[0m         memfile \u001b[38;5;241m=\u001b[39m MemoryFile(fp\u001b[38;5;241m.\u001b[39mread())\n",
      "File \u001b[1;32m~\\AppData\\Roaming\\Python\\Python312\\site-packages\\rasterio\\env.py:398\u001b[0m, in \u001b[0;36mensure_env.<locals>.wrapper\u001b[1;34m(*args, **kwds)\u001b[0m\n\u001b[0;32m    395\u001b[0m \u001b[38;5;129m@wraps\u001b[39m(f)\n\u001b[0;32m    396\u001b[0m \u001b[38;5;28;01mdef\u001b[39;00m \u001b[38;5;21mwrapper\u001b[39m(\u001b[38;5;241m*\u001b[39margs, \u001b[38;5;241m*\u001b[39m\u001b[38;5;241m*\u001b[39mkwds):\n\u001b[0;32m    397\u001b[0m     \u001b[38;5;28;01mif\u001b[39;00m local\u001b[38;5;241m.\u001b[39m_env:\n\u001b[1;32m--> 398\u001b[0m         \u001b[38;5;28;01mreturn\u001b[39;00m \u001b[43mf\u001b[49m\u001b[43m(\u001b[49m\u001b[38;5;241;43m*\u001b[39;49m\u001b[43margs\u001b[49m\u001b[43m,\u001b[49m\u001b[43m \u001b[49m\u001b[38;5;241;43m*\u001b[39;49m\u001b[38;5;241;43m*\u001b[39;49m\u001b[43mkwds\u001b[49m\u001b[43m)\u001b[49m\n\u001b[0;32m    399\u001b[0m     \u001b[38;5;28;01melse\u001b[39;00m:\n\u001b[0;32m    400\u001b[0m         \u001b[38;5;28;01mwith\u001b[39;00m Env\u001b[38;5;241m.\u001b[39mfrom_defaults():\n",
      "File \u001b[1;32m~\\AppData\\Roaming\\Python\\Python312\\site-packages\\rasterio\\io.py:236\u001b[0m, in \u001b[0;36m_FilePath.open\u001b[1;34m(self, driver, sharing, **kwargs)\u001b[0m\n\u001b[0;32m    233\u001b[0m \u001b[38;5;66;03m# Assume we were given a non-empty file-like object\u001b[39;00m\n\u001b[0;32m    234\u001b[0m log\u001b[38;5;241m.\u001b[39mdebug(\u001b[38;5;124m\"\u001b[39m\u001b[38;5;124mVSI path: \u001b[39m\u001b[38;5;132;01m{}\u001b[39;00m\u001b[38;5;124m\"\u001b[39m\u001b[38;5;241m.\u001b[39mformat(mempath\u001b[38;5;241m.\u001b[39mpath))\n\u001b[1;32m--> 236\u001b[0m \u001b[38;5;28;01mreturn\u001b[39;00m \u001b[43mDatasetReader\u001b[49m\u001b[43m(\u001b[49m\u001b[43mmempath\u001b[49m\u001b[43m,\u001b[49m\u001b[43m \u001b[49m\u001b[43mdriver\u001b[49m\u001b[38;5;241;43m=\u001b[39;49m\u001b[43mdriver\u001b[49m\u001b[43m,\u001b[49m\u001b[43m \u001b[49m\u001b[43msharing\u001b[49m\u001b[38;5;241;43m=\u001b[39;49m\u001b[43msharing\u001b[49m\u001b[43m,\u001b[49m\u001b[43m \u001b[49m\u001b[38;5;241;43m*\u001b[39;49m\u001b[38;5;241;43m*\u001b[39;49m\u001b[43mkwargs\u001b[49m\u001b[43m)\u001b[49m\n",
      "File \u001b[1;32mrasterio\\\\_base.pyx:312\u001b[0m, in \u001b[0;36mrasterio._base.DatasetBase.__init__\u001b[1;34m()\u001b[0m\n",
      "\u001b[1;31mRasterioIOError\u001b[0m: '/vsipythonfilelike/38f280d1-dec5-4d99-a70c-277a954cc180/38f280d1-dec5-4d99-a70c-277a954cc180' not recognized as a supported file format."
     ]
    }
   ],
   "source": [
    "import rasterio\n",
    "import matplotlib.pyplot as plt\n",
    "import numpy as np\n",
    "import requests\n",
    "from io import BytesIO\n",
    "\n",
    "# Beispielhafte Sentinel-2-Daten-URL (kann je nach verfügbaren Daten variieren)\n",
    "# Bitte beachten Sie, dass die direkten URLs zu Sentinel-Daten sich ändern können und dass für eine verlässliche Nutzung, das Copernicus Open Access Hub verwendet werden sollte.\n",
    "image_url = \"https://roda.sentinel-hub.com/sentinel-s2-l1c/tiles/31/U/FQ/2023/10/18/0/B04.jp2\" # Beispielhaftes rotes Band\n",
    "\n",
    "# Bild herunterladen\n",
    "response = requests.get(image_url)\n",
    "with rasterio.open(BytesIO(response.content)) as src:\n",
    "    image_data = src.read(1)  # Das erste Band lesen\n",
    "\n",
    "# Bildvisualisierung\n",
    "plt.figure(figsize=(10, 8))\n",
    "plt.imshow(image_data, cmap='gray', vmin=np.percentile(image_data, 2), vmax=np.percentile(image_data, 98)) #Farbbereich wird an die Perzentile des Bildes angepasst.\n",
    "plt.colorbar()\n",
    "plt.title(\"Sentinel-2 Rohbild (Rotes Band)\")\n",
    "plt.show()\n",
    "\n",
    "# Ausgabe der Bild Dimensionen\n",
    "print(\"Bild Dimensionen:\", image_data.shape)"
   ]
  },
  {
   "cell_type": "markdown",
   "id": "e08fb5b1",
   "metadata": {},
   "source": [
    "**Erläuterungen:**\n",
    "\n",
    "1.  **URL zum Bild:**\n",
    "    * Wir verwenden hier eine exemplarische Url. Im Normalfall werden Daten von Copernicus Open Access Hub bezogen, hierfür ist jedoch häufig eine Authentifizierung nötig. Das herunterladen der Daten ist dort in der Regel in einem Zip ordner organisiert, in dem viele verschiedene Bilddateien enthalten sind. Hier in diesem Beispiel wird daher vereinfacht direkt auf ein einzelnes Band zugegriffen.\n",
    "2.  **Daten herunterladen:**\n",
    "    * Mit `requests.get()` laden wir das Bild herunter.\n",
    "    * `rasterio.open()` öffnet die heruntergeladenen Daten.\n",
    "    * `src.read(1)` liest das erste Band des Bildes.\n",
    "3.  **Bildvisualisierung:**\n",
    "    * `matplotlib.pyplot.imshow()` zeigt die Bilddaten an.\n",
    "    * `cmap='gray'` stellt sicher, dass das Bild in Graustufen angezeigt wird.\n",
    "    * Die `vmin` und `vmax` Werte werden hier ähnlich dem JWST Beispiel, an die Perzentile der Daten angepasst.\n",
    "    * `plt.colorbar()` fügt eine Farbleiste hinzu.\n",
    "    * `plt.title()` setzt den Titel des Diagramms.\n",
    "    * `plt.show()` zeigt das Bild an.\n",
    "4.  **Bild Dimensionen:**\n",
    "    * `image_data.shape` wird ausgegeben und enthält die Dimensionen des Bildes.\n",
    "\n",
    "**Wichtige Hinweise:**\n",
    "\n",
    "* Sentinel-Daten können groß sein, daher kann das Herunterladen und Anzeigen einige Zeit dauern.\n",
    "* Es gibt verschiedene Sentinel-Satelliten und Datentypen. Stellen Sie sicher, dass Sie die richtige URL und die richtigen Parameter verwenden, um die gewünschten Daten abzurufen.\n",
    "* Für eine Produktionstaugliche Applikation, sollte in jedemfall der Copernicus Open Access Hub verwendet werden, um Sentinel Daten herunterzuladen.\n",
    "* Es ist wichtig, die Dokumentation des Copernicus-Programms zu konsultieren, um die verfügbaren Daten und deren Format besser zu verstehen.\n"
   ]
  }
 ],
 "metadata": {
  "kernelspec": {
   "display_name": "Python 3",
   "language": "python",
   "name": "python3"
  },
  "language_info": {
   "codemirror_mode": {
    "name": "ipython",
    "version": 3
   },
   "file_extension": ".py",
   "mimetype": "text/x-python",
   "name": "python",
   "nbconvert_exporter": "python",
   "pygments_lexer": "ipython3",
   "version": "3.12.5"
  }
 },
 "nbformat": 4,
 "nbformat_minor": 5
}
